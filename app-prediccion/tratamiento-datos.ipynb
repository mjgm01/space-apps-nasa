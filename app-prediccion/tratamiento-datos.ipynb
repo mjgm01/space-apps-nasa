{
 "cells": [
  {
   "cell_type": "code",
   "execution_count": null,
   "metadata": {},
   "outputs": [],
   "source": [
    "pip install netCDF4 pandas"
   ]
  },
  {
   "cell_type": "code",
   "execution_count": null,
   "metadata": {},
   "outputs": [],
   "source": [
    "import netCDF4 as nc\n",
    "import pandas as pd"
   ]
  },
  {
   "cell_type": "code",
   "execution_count": null,
   "metadata": {},
   "outputs": [],
   "source": [
    "dataset = nc.Dataset('temperatura2.nc')\n",
    "print(dataset.variables.keys())"
   ]
  },
  {
   "cell_type": "code",
   "execution_count": 22,
   "metadata": {},
   "outputs": [
    {
     "name": "stdout",
     "output_type": "stream",
     "text": [
      "Variables disponibles: dict_keys(['AIRS3STM_006_Temperature_D_TempPrsLvls_D', 'TempPrsLvls_D', 'datamonth', 'time', 'time_bnds'])\n",
      "Dimensiones de temperatura: (262,)\n",
      "Dimensiones de datamonth: (262,)\n",
      "Dimensiones de tiempo: (262,)\n",
      "   Temperature_D  Data Month        Time\n",
      "0      26.097437      200209  1030838400\n",
      "1      25.582880      200210  1033430400\n",
      "2      24.552240      200211  1036108800\n",
      "3      23.892176      200212  1038700800\n",
      "4      23.525812      200301  1041379200\n",
      "Datos guardados en 'temperatura2_datos.csv'.\n"
     ]
    }
   ],
   "source": [
    "temperatura = dataset.variables['AIRS3STM_006_Temperature_D_TempPrsLvls_D'][:]  # Nueva variable de temperatura\n",
    "datamonth = dataset.variables['datamonth'][:]\n",
    "time = dataset.variables['time'][:]\n",
    "\n",
    "data = []\n",
    "\n",
    "\n",
    "print(\"Dimensiones de temperatura:\", temperatura.shape)\n",
    "print(\"Dimensiones de datamonth:\", datamonth.shape)\n",
    "print(\"Dimensiones de tiempo:\", time.shape)\n",
    "\n",
    "if len(temperatura.shape) == 2: \n",
    "    for i in range(temperatura.shape[0]):\n",
    "        for j in range(temperatura.shape[1]): \n",
    "            data.append([temperatura[i, j], datamonth[i], time[i]])\n",
    "elif len(temperatura.shape) == 1: \n",
    "    for i in range(temperatura.shape[0]):\n",
    "        data.append([temperatura[i], datamonth[i], time[i]])\n",
    "else:\n",
    "    print(\"La variable de temperatura tiene una forma inesperada.\")\n",
    "\n",
    "\n",
    "df = pd.DataFrame(data, columns=['Temperature_D', 'Data Month', 'Time'])\n",
    "\n",
    "\n",
    "print(df.head())\n",
    "\n",
    "\n",
    "df.to_csv('temperatura2_datos.csv', index=False)\n",
    "\n",
    "print(\"Datos guardados en 'temperatura2_datos.csv'.\")\n"
   ]
  },
  {
   "cell_type": "code",
   "execution_count": 6,
   "metadata": {},
   "outputs": [
    {
     "name": "stdout",
     "output_type": "stream",
     "text": [
      "dict_keys(['AIRS3STM_006_SurfAirTemp_A', 'datamonth', 'time', 'time_bnds'])\n"
     ]
    }
   ],
   "source": [
    "dataset = nc.Dataset('temperatura1.nc')\n",
    "print(dataset.variables.keys())"
   ]
  },
  {
   "cell_type": "code",
   "execution_count": 23,
   "metadata": {},
   "outputs": [
    {
     "name": "stdout",
     "output_type": "stream",
     "text": [
      "Variables disponibles: dict_keys(['AIRS3STM_006_SurfAirTemp_A', 'datamonth', 'time', 'time_bnds'])\n",
      "Dimensiones de temperatura: (262,)\n",
      "Dimensiones de datamonth: (262,)\n",
      "Dimensiones de tiempo: (262,)\n",
      "   Temperature_A  Data Month        Time\n",
      "0      27.330927      200209  1030838400\n",
      "1      26.624140      200210  1033430400\n",
      "2      25.923548      200211  1036108800\n",
      "3      24.808466      200212  1038700800\n",
      "4      24.751734      200301  1041379200\n",
      "Datos guardados en 'temperatura1_datos.csv'.\n"
     ]
    }
   ],
   "source": [
    "temperatura = dataset.variables['AIRS3STM_006_SurfAirTemp_A'][:]\n",
    "datamonth = dataset.variables['datamonth'][:]\n",
    "time = dataset.variables['time'][:]\n",
    "\n",
    "data = []\n",
    "\n",
    "print(\"Dimensiones de temperatura:\", temperatura.shape)\n",
    "print(\"Dimensiones de datamonth:\", datamonth.shape)\n",
    "print(\"Dimensiones de tiempo:\", time.shape)\n",
    "\n",
    "if len(temperatura.shape) == 2:\n",
    "    for i in range(temperatura.shape[0]):\n",
    "        for j in range(temperatura.shape[1]):\n",
    "            data.append([temperatura[i, j], datamonth[i], time[i]])\n",
    "elif len(temperatura.shape) == 1:\n",
    "    for i in range(temperatura.shape[0]):\n",
    "        data.append([temperatura[i], datamonth[i], time[i]])\n",
    "else:\n",
    "    print(\"La variable de temperatura tiene una forma inesperada.\")\n",
    "\n",
    "df = pd.DataFrame(data, columns=['Temperature_A', 'Data Month', 'Time'])\n",
    "\n",
    "print(df.head())\n",
    "\n",
    "df.to_csv('temperatura1_datos.csv', index=False)\n",
    "\n",
    "print(\"Datos guardados en 'temperatura1_datos.csv'.\")"
   ]
  },
  {
   "cell_type": "code",
   "execution_count": 16,
   "metadata": {},
   "outputs": [
    {
     "name": "stdout",
     "output_type": "stream",
     "text": [
      "dict_keys(['AIRS3STM_006_RelHum_A_H2OPrsLvls_A', 'H2OPrsLvls_A', 'datamonth', 'time', 'time_bnds'])\n"
     ]
    }
   ],
   "source": [
    "dataset = nc.Dataset('humedad1_m.nc')\n",
    "print(dataset.variables.keys())"
   ]
  },
  {
   "cell_type": "code",
   "execution_count": 27,
   "metadata": {},
   "outputs": [
    {
     "name": "stdout",
     "output_type": "stream",
     "text": [
      "Variables disponibles: dict_keys(['AIRS3STM_006_RelHum_A_H2OPrsLvls_A', 'H2OPrsLvls_A', 'datamonth', 'time', 'time_bnds'])\n",
      "Dimensiones de humedad: (262,)\n",
      "Dimensiones de dataday: (262,)\n",
      "Dimensiones de tiempo: (262,)\n",
      "Dimensiones de presión: ()\n",
      "   Humidity_A  Data Month        Time  Pressure\n",
      "0   66.400955      200209  1030838400    1000.0\n",
      "1   68.273849      200210  1033430400    1000.0\n",
      "2   68.428452      200211  1036108800    1000.0\n",
      "3   68.592911      200212  1038700800    1000.0\n",
      "4   65.202751      200301  1041379200    1000.0\n",
      "Datos guardados en 'humedad1_datos.csv'.\n"
     ]
    }
   ],
   "source": [
    "humidity = dataset.variables['AIRS3STM_006_RelHum_A_H2OPrsLvls_A'][:]\n",
    "datamonth = dataset.variables['datamonth'][:]\n",
    "time = dataset.variables['time'][:] \n",
    "pressure = dataset.variables['H2OPrsLvls_A'][:] \n",
    "\n",
    "data = []\n",
    "\n",
    "print(\"Dimensiones de humedad:\", humidity.shape)\n",
    "print(\"Dimensiones de dataday:\", datamonth.shape)\n",
    "print(\"Dimensiones de tiempo:\", time.shape)\n",
    "print(\"Dimensiones de presión:\", pressure.shape)\n",
    "\n",
    "pressure_value = pressure.item()\n",
    "\n",
    "for i in range(humidity.shape[0]):\n",
    "    data.append([humidity[i], datamonth[i], time[i], pressure_value])\n",
    "\n",
    "\n",
    "df = pd.DataFrame(data, columns=['Humidity_A', 'Data Month', 'Time', 'Pressure'])\n",
    "\n",
    "print(df.head()) \n",
    "\n",
    "df.to_csv('humedad1_datos.csv', index=False)\n",
    "\n",
    "print(\"Datos guardados en 'humedad1_datos.csv'.\")\n"
   ]
  },
  {
   "cell_type": "code",
   "execution_count": 19,
   "metadata": {},
   "outputs": [
    {
     "name": "stdout",
     "output_type": "stream",
     "text": [
      "dict_keys(['AIRS3STM_006_RelHum_D_H2OPrsLvls_D', 'H2OPrsLvls_D', 'datamonth', 'time', 'time_bnds'])\n"
     ]
    }
   ],
   "source": [
    "dataset = nc.Dataset('humedad2_m.nc')\n",
    "print(dataset.variables.keys())"
   ]
  },
  {
   "cell_type": "code",
   "execution_count": 28,
   "metadata": {},
   "outputs": [
    {
     "name": "stdout",
     "output_type": "stream",
     "text": [
      "Variables disponibles: dict_keys(['AIRS3STM_006_RelHum_D_H2OPrsLvls_D', 'H2OPrsLvls_D', 'datamonth', 'time', 'time_bnds'])\n",
      "Dimensiones de humedad: (262,)\n",
      "Dimensiones de dataday: (262,)\n",
      "Dimensiones de tiempo: (262,)\n",
      "Dimensiones de presión: ()\n",
      "   Humidity_D  Data Month        Time  Pressure\n",
      "0   82.510590      200209  1030838400    1000.0\n",
      "1   84.693710      200210  1033430400    1000.0\n",
      "2   83.415657      200211  1036108800    1000.0\n",
      "3   85.270668      200212  1038700800    1000.0\n",
      "4   78.518646      200301  1041379200    1000.0\n",
      "Datos guardados en 'humedad2_datos.csv'.\n"
     ]
    }
   ],
   "source": [
    "humidity = dataset.variables['AIRS3STM_006_RelHum_D_H2OPrsLvls_D'][:]\n",
    "datamonth = dataset.variables['datamonth'][:] \n",
    "time = dataset.variables['time'][:]\n",
    "pressure = dataset.variables['H2OPrsLvls_D'][:]\n",
    "\n",
    "data = []\n",
    "\n",
    "print(\"Dimensiones de humedad:\", humidity.shape)\n",
    "print(\"Dimensiones de dataday:\", datamonth.shape)\n",
    "print(\"Dimensiones de tiempo:\", time.shape)\n",
    "print(\"Dimensiones de presión:\", pressure.shape)\n",
    "\n",
    "\n",
    "pressure_value = pressure.item() \n",
    "\n",
    "\n",
    "for i in range(humidity.shape[0]):\n",
    "    data.append([humidity[i], datamonth[i], time[i], pressure_value])\n",
    "\n",
    "\n",
    "df = pd.DataFrame(data, columns=['Humidity_D', 'Data Month', 'Time', 'Pressure'])\n",
    "\n",
    "print(df.head())\n",
    "\n",
    "df.to_csv('humedad2_datos.csv', index=False)\n",
    "\n",
    "print(\"Datos guardados en 'humedad2_datos.csv'.\")"
   ]
  },
  {
   "cell_type": "code",
   "execution_count": 32,
   "metadata": {},
   "outputs": [
    {
     "name": "stdout",
     "output_type": "stream",
     "text": [
      "dict_keys(['GLDAS_NOAH025_M_2_1_Rainf_tavg', 'datamonth', 'time', 'time_bnds'])\n"
     ]
    }
   ],
   "source": [
    "dataset = nc.Dataset('lluvia.nc')\n",
    "print(dataset.variables.keys())"
   ]
  },
  {
   "cell_type": "code",
   "execution_count": 34,
   "metadata": {},
   "outputs": [
    {
     "name": "stdout",
     "output_type": "stream",
     "text": [
      "Variables disponibles: dict_keys(['GLDAS_NOAH025_M_2_1_Rainf_tavg', 'datamonth', 'time', 'time_bnds'])\n",
      "Dimensiones de humedad: (267,)\n",
      "Dimensiones de dataday: (267,)\n",
      "Dimensiones de tiempo: (267,)\n",
      "   Precipitation  Data Month          Time\n",
      "0       0.000006      200204  1.017619e+09\n",
      "1       0.000070      200205  1.020211e+09\n",
      "2       0.000087      200206  1.022890e+09\n",
      "3       0.000073      200207  1.025482e+09\n",
      "4       0.000070      200208  1.028160e+09\n",
      "Datos guardados en 'lluvia_datos.csv'.\n"
     ]
    }
   ],
   "source": [
    "humidity = dataset.variables['GLDAS_NOAH025_M_2_1_Rainf_tavg'][:]\n",
    "datamonth = dataset.variables['datamonth'][:]\n",
    "time = dataset.variables['time'][:]\n",
    "\n",
    "data = []\n",
    "\n",
    "print(\"Dimensiones de humedad:\", humidity.shape)\n",
    "print(\"Dimensiones de dataday:\", datamonth.shape)\n",
    "print(\"Dimensiones de tiempo:\", time.shape)\n",
    "\n",
    "\n",
    "for i in range(humidity.shape[0]):\n",
    "    data.append([humidity[i], datamonth[i], time[i]])\n",
    "\n",
    "df = pd.DataFrame(data, columns=['Precipitation', 'Data Month', 'Time'])\n",
    "\n",
    "print(df.head())\n",
    "\n",
    "df.to_csv('lluvia_datos.csv', index=False)\n",
    "\n",
    "print(\"Datos guardados en 'lluvia_datos.csv'.\")"
   ]
  },
  {
   "cell_type": "code",
   "execution_count": null,
   "metadata": {},
   "outputs": [],
   "source": [
    "df = pd.read_csv('nivel-agua.csv', delimiter=',')  # Cambia el delimitador si es necesario\n",
    "df.columns = df.columns.str.replace('\"', '').str.strip()\n",
    "\n",
    "\n",
    "df.rename(columns={\n",
    "    'Water Equivalent Thickness – Land (GRACE, GRACE-FO CSR)': 'Water_Thickness_GRACE'\n",
    "}, inplace=True)\n",
    "\n",
    "df.to_csv('nivel-agua-2.csv', index=False)\n"
   ]
  },
  {
   "cell_type": "code",
   "execution_count": 51,
   "metadata": {},
   "outputs": [],
   "source": [
    "# Cargar los archivos CSV\n",
    "df1 = pd.read_csv('temperatura1_datos.csv')\n",
    "df2 = pd.read_csv('temperatura2_datos.csv')\n",
    "df3 = pd.read_csv('humedad1_datos.csv')\n",
    "df4 = pd.read_csv('humedad2_datos.csv')\n",
    "df5 = pd.read_csv('lluvia_datos.csv')\n",
    "df6 = pd.read_csv('nivel-agua-2.csv')\n",
    "\n",
    "# Eliminar columnas duplicadas que no sean necesarias\n",
    "df1.drop(columns=['Time'], inplace=True)\n",
    "df2.drop(columns=['Time'], inplace=True)\n",
    "df3.drop(columns=['Time', 'Pressure'], inplace=True)  # O elimina otras columnas según sea necesario\n",
    "df4.drop(columns=['Time', 'Pressure'], inplace=True)\n",
    "df5.drop(columns=['Time'], inplace=True)\n",
    "df6.drop(columns=['DateTime'], inplace=True)\n",
    "\n",
    "# Unir los DataFrames\n",
    "merged_df = df1.merge(df2, on='Data Month', how='outer')\n",
    "merged_df = merged_df.merge(df3, on='Data Month', how='outer')\n",
    "merged_df = merged_df.merge(df4, on='Data Month', how='outer')\n",
    "merged_df = merged_df.merge(df5, on='Data Month', how='outer')\n",
    "merged_df = merged_df.merge(df6, on='Data Month', how='outer')\n",
    "\n",
    "\n",
    "# Guardar el DataFrame combinado\n",
    "merged_df.to_csv('data.csv', index=False)"
   ]
  }
 ],
 "metadata": {
  "kernelspec": {
   "display_name": "Python 3",
   "language": "python",
   "name": "python3"
  },
  "language_info": {
   "codemirror_mode": {
    "name": "ipython",
    "version": 3
   },
   "file_extension": ".py",
   "mimetype": "text/x-python",
   "name": "python",
   "nbconvert_exporter": "python",
   "pygments_lexer": "ipython3",
   "version": "3.12.1"
  }
 },
 "nbformat": 4,
 "nbformat_minor": 2
}
